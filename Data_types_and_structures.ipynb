{
  "nbformat": 4,
  "nbformat_minor": 0,
  "metadata": {
    "colab": {
      "provenance": []
    },
    "kernelspec": {
      "name": "python3",
      "display_name": "Python 3"
    },
    "language_info": {
      "name": "python"
    }
  },
  "cells": [
    {
      "cell_type": "code",
      "execution_count": null,
      "metadata": {
        "id": "VuAxnueh29-Q"
      },
      "outputs": [],
      "source": []
    },
    {
      "cell_type": "markdown",
      "source": [
        "Q1)What are data structures, and why are they important?\n",
        "ans- Data structures are ways to organize and store data efficiently for operations like searching, sorting, and modifying.\n",
        "Faster Operations – Optimizes searching, inserting, and deleting.\n",
        "Memory Efficient – Reduces unnecessary memory usage.\n",
        "Scalability – Helps manage large datasets.\n",
        "Foundation for Algorithms – Essential for solving complex problems.\n",
        "Used Everywhere – Databases, AI, OS, networking, etc.\n",
        "Types of Data Structures\n",
        "Linear: Arrays, Linked Lists, Stacks, Queues.\n",
        "Non-Linear: Trees, Graphs\n",
        "\n",
        "2) Explain the difference between mutable and immutable data types with examples\n",
        "ans-Mutable Data Types\n",
        "Can be modified after creation without changing their memory address.\n",
        "Allow in-place modifications.\n",
        "Examples:\n",
        "\n",
        "Lists\n",
        "Example: my_list = [1, 2, 3] → my_list[0] = 100 (Changes to [100, 2, 3])\n",
        "Dictionaries\n",
        "Example: my_dict = {\"name\": \"Alice\", \"age\": 25} → my_dict[\"age\"] = 26 (Changes the value of \"age\")\n",
        "Immutable Data Types\n",
        "Cannot be modified after creation.\n",
        "Any modification creates a new object in memory.\n",
        "Examples:\n",
        "\n",
        "Strings\n",
        "Example: \"Hello\"[0] = \"h\" ( Error)\n",
        "Correct way: new_str = \"Hello\".replace(\"H\", \"h\") → \"hello\"\n",
        "Tuples\n",
        "Example: (1, 2, 3)[0] = 100 (TypeError)\n",
        "Integers, Floats, Booleans\n",
        "Example: a = 10, a = 20 (Creates a new integer object)\n",
        "\n",
        "3)P What are the main differences between lists and tuples in Python3\n",
        "ans-1. Mutability\n",
        "Lists are mutable, meaning their elements can be changed, added, or removed after creation.\n",
        "Tuples are immutable, meaning once they are created, their elements cannot be modified.\n",
        "2. Syntax\n",
        "Lists use square brackets: [ ] (e.g., my_list = [1, 2, 3]).\n",
        "Tuples use parentheses: ( ) (e.g., my_tuple = (1, 2, 3)).\n",
        "3. Modification\n",
        "Lists allow operations like append(), remove(), and sort().\n",
        "Tuples do not support item assignment or modification.\n",
        "4. Performance\n",
        "Lists are slower due to dynamic size and mutability.\n",
        "Tuples are faster because they have a fixed size and are immutable.\n",
        "5. Memory Usage\n",
        "Lists require more memory because they support modifications.\n",
        "Tuples use less memory as they are fixed and immutable.\n",
        "\n",
        "4)P Describe how dictionaries store data\n",
        "ans-How Dictionaries Store Data in Python (Short Answers)\n",
        "Data Structure – Uses a hash table to store key-value pairs.\n",
        "Key-Value Pairs – Each key is unique and maps to a specific value.\n",
        "Hashing – Keys are converted into a hash code that determines their memory position.\n",
        "Collisions Handling – Uses open addressing or chaining (linked lists) to resolve hash conflicts.\n",
        "Mutability – Dictionaries are mutable, meaning values can be modified, added, or removed\n",
        "\n",
        "5) Why might you use a set instead of a list in Python\n",
        "ans-Uniqueness – Sets automatically remove duplicates, while lists allow them.\n",
        "Faster Lookups – Sets have O(1) average time complexity for lookups, whereas lists take O(n).\n",
        "Mathematical Operations – Sets support union, intersection, and difference, which lists do not.\n",
        "No Order Guarantee – Sets are unordered, while lists maintain order.\n",
        "Memory Efficiency – Sets use hashing, making them more efficient for unique data storage.\n",
        "\n",
        "6)) What is a string in Python, and how is it different from a list\n",
        "ans-A string in Python is a sequence of characters enclosed in quotes (' ', \" \", ''' ''', or \"\"\" \"\"\"). It is immutable, meaning it cannot be changed after creation.\n",
        "\n",
        "7)How do tuples ensure data integrity in Python\n",
        "ans-Immutability – Tuples cannot be modified after creation, preventing accidental changes.\n",
        "Fixed Structure – Ensures consistent data storage, making them ideal for constants.\n",
        "Hashability – Tuples can be used as dictionary keys and set elements, ensuring data consistency.\n",
        "Thread-Safety – Since they are immutable, tuples are safe for multi-threaded applications.\n",
        "Memory Efficiency – Tuples use less memory than lists, improving performance in data-sensitive applications.\n",
        "\n",
        "8)What is a hash table, and how does it relate to dictionaries in Python\n",
        "ans-A hash table is a data structure that stores key-value pairs using hashing. Python dictionaries use hash tables to enable fast lookups (O(1) time complexity).\n",
        "\n",
        "9)Can lists contain different data types in Python\n",
        "ans-Yes! A list can hold integers, strings, floats, other lists, or even dictionaries in a single collection.\n",
        "\n",
        "10)Explain why strings are immutable in Python\n",
        "ans-Strings are immutable to ensure security, efficiency, and hashability, making them safe for use as dictionary keys and in multi-threading.\n",
        "\n",
        "11)What advantages do dictionaries offer over lists for certain tasks\n",
        "ans-Faster lookups (O(1)), key-value storage for better organization, and flexibility for structured data\n",
        "\n",
        "12) Describe a scenario where using a tuple would be preferable over a list\n",
        "ans-When you need fixed, unchangeable data like coordinates, database records, or function return values.\n",
        "\n",
        "13)How do sets handle duplicate values in Python\n",
        "ans-sets automatically remove duplicates, ensuring unique elements only.\n",
        "\n",
        "14)How does the “in” keyword work differently for lists and dictionaries\n",
        "ans-In lists, it checks for a value (O(n)).\n",
        "In dictionaries, it checks for a key (O(1)).\n",
        "\n",
        "15)Can you modify the elements of a tuple? Explain why or why not\n",
        "ans-No, tuples are immutable. Once created, their elements cannot be changed.\n",
        "\n",
        "16) What is a nested dictionary, and give an example of its use case\n",
        "ans-A dictionary inside another dictionary. Useful for storing complex data, like student records:\n",
        "\n",
        "students = {\"Alice\": {\"age\": 25, \"grade\": \"A\"}}\n",
        "\n",
        "17)Describe the time complexity of accessing elements in a dictionary\n",
        "ans-O(1) on average\n",
        "\n",
        "18)In what situations are lists preferred over dictionaries\n",
        "ans-When order matters, data is simple, or when you need sequential access.\n",
        "\n",
        "19)P Why are dictionaries considered unordered, and how does that affect data retrieval\n",
        "ans-Before Python 3.7, dictionaries didn’t maintain insertion order. Now they do, but data is still accessed by keys, not positions.\n",
        "\n",
        "20)P Explain the difference between a list and a dictionary in terms of data retrieval.\n",
        "ans-Lists: Use indexes, retrieval takes O(n) in worst case.\n",
        "Dictionaries: Use keys, retrieval is O(1) (much faster for large data)."
      ],
      "metadata": {
        "id": "aml6DpZc3MNt"
      }
    },
    {
      "cell_type": "code",
      "source": [
        "# Write a code to create a string with your name and print\n",
        "name = \"Abhinav\"\n",
        "print(name)\n"
      ],
      "metadata": {
        "colab": {
          "base_uri": "https://localhost:8080/"
        },
        "id": "7tAToCWw68JD",
        "outputId": "291bc0da-eee4-4f09-d408-c3e72456dad1"
      },
      "execution_count": 2,
      "outputs": [
        {
          "output_type": "stream",
          "name": "stdout",
          "text": [
            "Abhinav\n"
          ]
        }
      ]
    },
    {
      "cell_type": "code",
      "source": [
        "#Write a code to find the length of the string \"Hello World\"\n",
        "string = \"Hello World\"\n",
        "print(len(string))\n"
      ],
      "metadata": {
        "colab": {
          "base_uri": "https://localhost:8080/"
        },
        "id": "OWgnYoUa69ET",
        "outputId": "08b9f167-ef77-4db6-855c-0c1b7ddee85f"
      },
      "execution_count": 3,
      "outputs": [
        {
          "output_type": "stream",
          "name": "stdout",
          "text": [
            "11\n"
          ]
        }
      ]
    },
    {
      "cell_type": "code",
      "source": [
        "#Write a code to slice the first 3 characters from the string \"Python Programming\n",
        "text = \"Python Programming\"\n",
        "print(text[:3])\n"
      ],
      "metadata": {
        "colab": {
          "base_uri": "https://localhost:8080/"
        },
        "id": "VvvmoM2m69A2",
        "outputId": "4f8a982f-1693-4e45-9847-3c9893567d5b"
      },
      "execution_count": 4,
      "outputs": [
        {
          "output_type": "stream",
          "name": "stdout",
          "text": [
            "Pyt\n"
          ]
        }
      ]
    },
    {
      "cell_type": "code",
      "source": [
        "#Write a code to convert the string \"hello\" to uppercase\n",
        "word = \"hello\"\n",
        "print(word.upper())\n"
      ],
      "metadata": {
        "colab": {
          "base_uri": "https://localhost:8080/"
        },
        "id": "9tr9kz-W68-P",
        "outputId": "20c2ed9a-2191-46c7-9ca9-79efe15b668e"
      },
      "execution_count": 5,
      "outputs": [
        {
          "output_type": "stream",
          "name": "stdout",
          "text": [
            "HELLO\n"
          ]
        }
      ]
    },
    {
      "cell_type": "code",
      "source": [
        "# Write a code to replace the word \"apple\" with \"orange\" in the string \"I like apple\n",
        "sentence = \"I like apple\"\n",
        "print(sentence.replace(\"apple\", \"orange\"))\n"
      ],
      "metadata": {
        "colab": {
          "base_uri": "https://localhost:8080/"
        },
        "id": "oq7DAvJx687y",
        "outputId": "e2bca500-c9fb-498a-963e-f40ab957328d"
      },
      "execution_count": 6,
      "outputs": [
        {
          "output_type": "stream",
          "name": "stdout",
          "text": [
            "I like orange\n"
          ]
        }
      ]
    },
    {
      "cell_type": "code",
      "source": [
        "# Write a code to create a list with numbers 1 to 5 and print it\n",
        "numbers = [1, 2, 3, 4, 5]\n",
        "print(numbers)\n"
      ],
      "metadata": {
        "colab": {
          "base_uri": "https://localhost:8080/"
        },
        "id": "N6VZzgYB685J",
        "outputId": "600ff5ca-47f0-45f0-da23-c5259fd21bbd"
      },
      "execution_count": 7,
      "outputs": [
        {
          "output_type": "stream",
          "name": "stdout",
          "text": [
            "[1, 2, 3, 4, 5]\n"
          ]
        }
      ]
    },
    {
      "cell_type": "code",
      "source": [
        "#Write a code to append the number 10 to the list [1, 2, 3, 4]\n",
        "my_list = [1, 2, 3, 4]\n",
        "my_list.append(10)\n",
        "print(my_list)\n"
      ],
      "metadata": {
        "colab": {
          "base_uri": "https://localhost:8080/"
        },
        "id": "PdXBF0rs682Z",
        "outputId": "dd38627a-79c9-4710-e4f1-5432c18acecd"
      },
      "execution_count": 8,
      "outputs": [
        {
          "output_type": "stream",
          "name": "stdout",
          "text": [
            "[1, 2, 3, 4, 10]\n"
          ]
        }
      ]
    },
    {
      "cell_type": "code",
      "source": [
        "# Write a code to remove the number 3 from the list [1, 2, 3, 4, 5]\n",
        "my_list = [1, 2, 3, 4, 5]\n",
        "my_list.remove(3)\n",
        "print(my_list)\n"
      ],
      "metadata": {
        "colab": {
          "base_uri": "https://localhost:8080/"
        },
        "id": "CBGGgq1n68z3",
        "outputId": "fabefdb7-71e1-4d1d-da59-0ffe76033b08"
      },
      "execution_count": 9,
      "outputs": [
        {
          "output_type": "stream",
          "name": "stdout",
          "text": [
            "[1, 2, 4, 5]\n"
          ]
        }
      ]
    },
    {
      "cell_type": "code",
      "source": [
        "#Write a code to access the second element in the list ['a', 'b', 'c', 'd']\n",
        "my_list = ['a', 'b', 'c', 'd']\n",
        "print(my_list[1])\n"
      ],
      "metadata": {
        "colab": {
          "base_uri": "https://localhost:8080/"
        },
        "id": "_Ahkvgu468xh",
        "outputId": "92668867-876b-4b7a-b399-ecfb7110d567"
      },
      "execution_count": 10,
      "outputs": [
        {
          "output_type": "stream",
          "name": "stdout",
          "text": [
            "b\n"
          ]
        }
      ]
    },
    {
      "cell_type": "code",
      "source": [
        "#Write a code to reverse the list [10, 20, 30, 40, 50].\n",
        "my_list = [10, 20, 30, 40, 50]\n",
        "my_list.reverse()\n",
        "print(my_list)\n"
      ],
      "metadata": {
        "colab": {
          "base_uri": "https://localhost:8080/"
        },
        "id": "8pRLOhMR68u9",
        "outputId": "a41e3f17-3f78-4b11-e152-e0b6716c5dc8"
      },
      "execution_count": 11,
      "outputs": [
        {
          "output_type": "stream",
          "name": "stdout",
          "text": [
            "[50, 40, 30, 20, 10]\n"
          ]
        }
      ]
    },
    {
      "cell_type": "code",
      "source": [
        "# Write a code to create a tuple with the elements 100, 200, 300 and print it.\n",
        "my_tuple = (100, 200, 300)\n",
        "print(my_tuple)\n"
      ],
      "metadata": {
        "colab": {
          "base_uri": "https://localhost:8080/"
        },
        "id": "7OtHoGqg68sf",
        "outputId": "59ff9742-1d04-4b02-a253-0e914eeceee3"
      },
      "execution_count": 12,
      "outputs": [
        {
          "output_type": "stream",
          "name": "stdout",
          "text": [
            "(100, 200, 300)\n"
          ]
        }
      ]
    },
    {
      "cell_type": "code",
      "source": [
        "#. Write a code to access the second-to-last element of the tuple ('red', 'green', 'blue', 'yellow').\n",
        "colors = ('red', 'green', 'blue', 'yellow')\n",
        "print(colors[-2])\n"
      ],
      "metadata": {
        "colab": {
          "base_uri": "https://localhost:8080/"
        },
        "id": "QXnWkjYi68p4",
        "outputId": "6496271c-c2f6-435c-9c21-ab654b84a8ef"
      },
      "execution_count": 13,
      "outputs": [
        {
          "output_type": "stream",
          "name": "stdout",
          "text": [
            "blue\n"
          ]
        }
      ]
    },
    {
      "cell_type": "code",
      "source": [
        "#Write a code to find the minimum number in the tuple (10, 20, 5, 15)\n",
        "numbers = (10, 20, 5, 15)\n",
        "print(min(numbers))\n"
      ],
      "metadata": {
        "colab": {
          "base_uri": "https://localhost:8080/"
        },
        "id": "fNeyMy8g68nV",
        "outputId": "d5d1f006-76da-4be8-d3e6-641ead062a78"
      },
      "execution_count": 14,
      "outputs": [
        {
          "output_type": "stream",
          "name": "stdout",
          "text": [
            "5\n"
          ]
        }
      ]
    },
    {
      "cell_type": "code",
      "source": [
        "#. Write a code to find the index of the element \"cat\" in the tuple ('dog', 'cat', 'rabbit')\n",
        "animals = ('dog', 'cat', 'rabbit')\n",
        "print(animals.index(\"cat\"))\n"
      ],
      "metadata": {
        "colab": {
          "base_uri": "https://localhost:8080/"
        },
        "id": "s8XTjgkv68k_",
        "outputId": "7bce41cb-2332-4ba9-8896-f434f843d7df"
      },
      "execution_count": 15,
      "outputs": [
        {
          "output_type": "stream",
          "name": "stdout",
          "text": [
            "1\n"
          ]
        }
      ]
    },
    {
      "cell_type": "code",
      "source": [
        "#Write a code to create a tuple containing three different fruits and check if \"kiwi\" is in it\n",
        "fruits = (\"apple\", \"banana\", \"mango\")\n",
        "print(\"kiwi\" in fruits)\n"
      ],
      "metadata": {
        "colab": {
          "base_uri": "https://localhost:8080/"
        },
        "id": "8djkbFrC8YCK",
        "outputId": "eded958f-2581-4da3-d6c0-f9c5aa4ced6b"
      },
      "execution_count": 16,
      "outputs": [
        {
          "output_type": "stream",
          "name": "stdout",
          "text": [
            "False\n"
          ]
        }
      ]
    },
    {
      "cell_type": "code",
      "source": [
        "#6. Write a code to create a set with the elements 'a', 'b', 'c' and print it.\n",
        "\n",
        "my_set = {'a', 'b', 'c'}\n",
        "print(my_set)\n"
      ],
      "metadata": {
        "colab": {
          "base_uri": "https://localhost:8080/"
        },
        "id": "27fHLL_v8X-t",
        "outputId": "09ecbdee-7a54-4152-dc04-754ee4499624"
      },
      "execution_count": 17,
      "outputs": [
        {
          "output_type": "stream",
          "name": "stdout",
          "text": [
            "{'c', 'a', 'b'}\n"
          ]
        }
      ]
    },
    {
      "cell_type": "code",
      "source": [
        "# Write a code to clear all elements from the set {1, 2, 3, 4, 5}.\n",
        "my_set = {1, 2, 3, 4, 5}\n",
        "my_set.clear()\n",
        "print(my_set)\n"
      ],
      "metadata": {
        "colab": {
          "base_uri": "https://localhost:8080/"
        },
        "id": "LDMxyKEk8X8L",
        "outputId": "7b67bb6d-27e0-4634-c6f5-3a717c61ea4c"
      },
      "execution_count": 18,
      "outputs": [
        {
          "output_type": "stream",
          "name": "stdout",
          "text": [
            "set()\n"
          ]
        }
      ]
    },
    {
      "cell_type": "code",
      "source": [
        "# Write a code to remove the element 4 from the set {1, 2, 3, 4}\n",
        "my_set = {1, 2, 3, 4}\n",
        "my_set.remove(4)\n",
        "print(my_set)\n"
      ],
      "metadata": {
        "colab": {
          "base_uri": "https://localhost:8080/"
        },
        "id": "tBXAP4vG8X5w",
        "outputId": "346f20a4-707e-4fb8-97a8-b11cb4283574"
      },
      "execution_count": 19,
      "outputs": [
        {
          "output_type": "stream",
          "name": "stdout",
          "text": [
            "{1, 2, 3}\n"
          ]
        }
      ]
    },
    {
      "cell_type": "code",
      "source": [
        "#. Write a code to find the union of two sets {1, 2, 3} and {3, 4, 5}.\n",
        "set1 = {1, 2, 3}\n",
        "set2 = {3, 4, 5}\n",
        "print(set1 | set2)\n"
      ],
      "metadata": {
        "colab": {
          "base_uri": "https://localhost:8080/"
        },
        "id": "08dCIiJY8X3p",
        "outputId": "2ba9a6de-d878-482a-b444-7c37d643f264"
      },
      "execution_count": 22,
      "outputs": [
        {
          "output_type": "stream",
          "name": "stdout",
          "text": [
            "{1, 2, 3, 4, 5}\n"
          ]
        }
      ]
    },
    {
      "cell_type": "code",
      "source": [
        "# Write a code to find the intersection of two sets {1, 2, 3} and {2, 3, 4}.\n",
        "set1 = {1, 2, 3}\n",
        "set2 = {2, 3, 4}\n",
        "print(set1 & set2)\n"
      ],
      "metadata": {
        "colab": {
          "base_uri": "https://localhost:8080/"
        },
        "id": "7Fckj90b8X06",
        "outputId": "b17b14f9-0202-47d8-b0fe-5e68d55e5400"
      },
      "execution_count": 21,
      "outputs": [
        {
          "output_type": "stream",
          "name": "stdout",
          "text": [
            "{2, 3}\n"
          ]
        }
      ]
    },
    {
      "cell_type": "code",
      "source": [
        "#Write a code to create a dictionary with the keys \"name\", \"age\", and \"city\", and print it.\n",
        "my_dict = {\"name\": \"Alice\", \"age\": 30, \"city\": \"New York\"}\n",
        "print(my_dict)\n"
      ],
      "metadata": {
        "colab": {
          "base_uri": "https://localhost:8080/"
        },
        "id": "9JLglJVP8Xyc",
        "outputId": "b669ec72-f9ea-47a8-8724-51e759e55c96"
      },
      "execution_count": 23,
      "outputs": [
        {
          "output_type": "stream",
          "name": "stdout",
          "text": [
            "{'name': 'Alice', 'age': 30, 'city': 'New York'}\n"
          ]
        }
      ]
    },
    {
      "cell_type": "code",
      "source": [
        "#Write a code to add a new key-value pair \"country\": \"USA\" to the dictionary {'name': 'John', 'age': 25}.\n",
        "my_dict = {'name': 'John', 'age': 25}\n",
        "my_dict[\"country\"] = \"USA\"\n",
        "print(my_dict)\n"
      ],
      "metadata": {
        "colab": {
          "base_uri": "https://localhost:8080/"
        },
        "id": "gflT49o_8XwF",
        "outputId": "7cbf2803-c580-4bd2-d2a5-86dabd733a30"
      },
      "execution_count": 24,
      "outputs": [
        {
          "output_type": "stream",
          "name": "stdout",
          "text": [
            "{'name': 'John', 'age': 25, 'country': 'USA'}\n"
          ]
        }
      ]
    },
    {
      "cell_type": "code",
      "source": [
        "# Write a code to access the value associated with the key \"name\" in the dictionary {'name': 'Alice', 'age': 30}\n",
        "my_dict = {'name': 'Alice', 'age': 30}\n",
        "print(my_dict[\"name\"])\n"
      ],
      "metadata": {
        "colab": {
          "base_uri": "https://localhost:8080/"
        },
        "id": "lQh2Bc4y8Xtc",
        "outputId": "339d1cb2-e89c-489c-9eef-b2c52937de3c"
      },
      "execution_count": 25,
      "outputs": [
        {
          "output_type": "stream",
          "name": "stdout",
          "text": [
            "Alice\n"
          ]
        }
      ]
    },
    {
      "cell_type": "code",
      "source": [
        "# Write a code to remove the key \"age\" from the dictionary {'name': 'Bob', 'age': 22, 'city': 'New York'}\n",
        "my_dict = {'name': 'Bob', 'age': 22, 'city': 'New York'}\n",
        "del my_dict[\"age\"]\n",
        "print(my_dict)\n"
      ],
      "metadata": {
        "colab": {
          "base_uri": "https://localhost:8080/"
        },
        "id": "iuub010O8Xq5",
        "outputId": "b2e25cdf-72cd-40f6-9afd-dcafb579ec41"
      },
      "execution_count": 26,
      "outputs": [
        {
          "output_type": "stream",
          "name": "stdout",
          "text": [
            "{'name': 'Bob', 'city': 'New York'}\n"
          ]
        }
      ]
    },
    {
      "cell_type": "code",
      "source": [
        "#. Write a code to check if the key \"city\" exists in the dictionary {'name': 'Alice', 'city': 'Paris'}.\n",
        "my_dict = {'name': 'Alice', 'city': 'Paris'}\n",
        "print(\"city\" in my_dict)  # Output: True\n"
      ],
      "metadata": {
        "colab": {
          "base_uri": "https://localhost:8080/"
        },
        "id": "510Z6cyj8XoZ",
        "outputId": "32435282-6c53-4320-983c-ba1e66fb89af"
      },
      "execution_count": 27,
      "outputs": [
        {
          "output_type": "stream",
          "name": "stdout",
          "text": [
            "True\n"
          ]
        }
      ]
    },
    {
      "cell_type": "code",
      "source": [
        "# Write a code to create a list, a tuple, and a dictionary, and print them all\n",
        "my_list = [1, 2, 3]\n",
        "my_tuple = (4, 5, 6)\n",
        "my_dict = {\"a\": 7, \"b\": 8}\n",
        "print(my_list, my_tuple, my_dict)\n"
      ],
      "metadata": {
        "colab": {
          "base_uri": "https://localhost:8080/"
        },
        "id": "Q8j4Lthz8XgK",
        "outputId": "a5a2d48a-70b6-4a6d-e488-dc379cfc1fa7"
      },
      "execution_count": 28,
      "outputs": [
        {
          "output_type": "stream",
          "name": "stdout",
          "text": [
            "[1, 2, 3] (4, 5, 6) {'a': 7, 'b': 8}\n"
          ]
        }
      ]
    },
    {
      "cell_type": "code",
      "source": [
        "#Write a code to create a list of 5 random numbers between 1 and 100, sort it in ascending order, and print the\n",
        "#result.(replaced)\n",
        "import random\n",
        "numbers = random.sample(range(1, 101), 5)\n",
        "numbers.sort()\n",
        "print(numbers)\n"
      ],
      "metadata": {
        "colab": {
          "base_uri": "https://localhost:8080/"
        },
        "id": "TBw0Sgb5-foh",
        "outputId": "9b8e7e1c-1147-4d2a-8a39-4cd51d18bbe1"
      },
      "execution_count": 29,
      "outputs": [
        {
          "output_type": "stream",
          "name": "stdout",
          "text": [
            "[8, 17, 45, 85, 93]\n"
          ]
        }
      ]
    },
    {
      "cell_type": "code",
      "source": [
        "#. Write a code to create a list with strings and print the element at the third index.\n",
        "my_list = [\"apple\", \"banana\", \"cherry\", \"date\", \"elderberry\"]\n",
        "print(my_list[3])\n"
      ],
      "metadata": {
        "colab": {
          "base_uri": "https://localhost:8080/"
        },
        "id": "ZnTUGKYW-fhy",
        "outputId": "5b2e361b-8a64-4c08-c061-fceb888ca49b"
      },
      "execution_count": 30,
      "outputs": [
        {
          "output_type": "stream",
          "name": "stdout",
          "text": [
            "date\n"
          ]
        }
      ]
    },
    {
      "cell_type": "code",
      "source": [
        "#Write a code to convert a list of strings into a set.\n",
        "my_list = [\"apple\", \"banana\", \"cherry\", \"apple\", \"banana\"]\n",
        "my_set = set(my_list)\n",
        "print(my_set)\n"
      ],
      "metadata": {
        "colab": {
          "base_uri": "https://localhost:8080/"
        },
        "id": "7hN__3qc-fe7",
        "outputId": "15cad967-f219-47bd-c468-680c106bdb59"
      },
      "execution_count": 31,
      "outputs": [
        {
          "output_type": "stream",
          "name": "stdout",
          "text": [
            "{'banana', 'apple', 'cherry'}\n"
          ]
        }
      ]
    },
    {
      "cell_type": "code",
      "source": [],
      "metadata": {
        "id": "7SRmgRMq_0Pn"
      },
      "execution_count": null,
      "outputs": []
    },
    {
      "cell_type": "code",
      "source": [],
      "metadata": {
        "id": "eiHK4mzN_0Md"
      },
      "execution_count": null,
      "outputs": []
    }
  ]
}